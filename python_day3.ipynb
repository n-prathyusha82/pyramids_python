{
  "nbformat": 4,
  "nbformat_minor": 0,
  "metadata": {
    "colab": {
      "provenance": [],
      "authorship_tag": "ABX9TyO2hI762m79wnLINbi/WbQo",
      "include_colab_link": true
    },
    "kernelspec": {
      "name": "python3",
      "display_name": "Python 3"
    },
    "language_info": {
      "name": "python"
    }
  },
  "cells": [
    {
      "cell_type": "markdown",
      "metadata": {
        "id": "view-in-github",
        "colab_type": "text"
      },
      "source": [
        "<a href=\"https://colab.research.google.com/github/n-prathyusha82/pyramids_python/blob/main/python_day3.ipynb\" target=\"_parent\"><img src=\"https://colab.research.google.com/assets/colab-badge.svg\" alt=\"Open In Colab\"/></a>"
      ]
    },
    {
      "cell_type": "markdown",
      "source": [
        "**ascii values => A-Z => 65-90**\n",
        "**a-z => 97-122**\n",
        "**0-9 => 48-57**"
      ],
      "metadata": {
        "id": "3zWGdv5Zw8rD"
      }
    },
    {
      "cell_type": "code",
      "source": [
        "n = 5\n",
        "for i in range(n):\n",
        "  for j in range(i+1):\n",
        "    print(\" \",end=\" \")\n",
        "  for j in range(i,n):\n",
        "    if(j==i or j==n-1 or i==0):\n",
        "      print(\"*\",end=\" \")\n",
        "    else:\n",
        "      print(\" \",end=\" \")\n",
        "  print()"
      ],
      "metadata": {
        "colab": {
          "base_uri": "https://localhost:8080/"
        },
        "id": "qmFT2jqw6u5S",
        "outputId": "9f1ad5fb-8a06-434d-9ae8-04a191421bd3"
      },
      "execution_count": 1,
      "outputs": [
        {
          "output_type": "stream",
          "name": "stdout",
          "text": [
            "  * * * * * \n",
            "    *     * \n",
            "      *   * \n",
            "        * * \n",
            "          * \n"
          ]
        }
      ]
    },
    {
      "cell_type": "code",
      "source": [
        "n = 5\n",
        "for i in range(n):\n",
        "  for j in range(i,n):\n",
        "    if(i==0 or j==n-1 or j==i):\n",
        "      print(\"*\",end=\" \")\n",
        "    else:\n",
        "      print(\" \",end=\" \")\n",
        "  print()"
      ],
      "metadata": {
        "colab": {
          "base_uri": "https://localhost:8080/"
        },
        "id": "GNTElaJc8-LH",
        "outputId": "c1883692-11c6-4078-b0f0-b012c56eb6fe"
      },
      "execution_count": 2,
      "outputs": [
        {
          "output_type": "stream",
          "name": "stdout",
          "text": [
            "* * * * * \n",
            "*     * \n",
            "*   * \n",
            "* * \n",
            "* \n"
          ]
        }
      ]
    },
    {
      "cell_type": "code",
      "source": [
        "n = 5\n",
        "for i in range(n):\n",
        "  for j in range(i,n):\n",
        "    print(\" \",end=\" \")\n",
        "  for j in range(i):\n",
        "    if(i==j or i==n-1 or j==0):\n",
        "      print(\"*\",end=\" \")\n",
        "    else:\n",
        "      print(\" \",end=\" \")\n",
        "  for j in range(i+1):\n",
        "    if(i==n-1 or j==n-1 or j==i):\n",
        "      print(\"*\",end=\" \")\n",
        "    else:\n",
        "      print(\" \",end=\" \")\n",
        "  print()"
      ],
      "metadata": {
        "colab": {
          "base_uri": "https://localhost:8080/"
        },
        "id": "GjIZs_Sd-7n0",
        "outputId": "ecc5f6b8-9173-4af4-dc2a-85e76b50ceb5"
      },
      "execution_count": 3,
      "outputs": [
        {
          "output_type": "stream",
          "name": "stdout",
          "text": [
            "          * \n",
            "        *   * \n",
            "      *       * \n",
            "    *           * \n",
            "  * * * * * * * * * \n"
          ]
        }
      ]
    },
    {
      "cell_type": "code",
      "source": [
        "n = 5\n",
        "for i in range(n):\n",
        "  for j in range(i,n):\n",
        "    print(\" \",end=\" \")\n",
        "  for j in range(i+1):\n",
        "    if(j==n-1 or i==n-1 or i==j):\n",
        "      print(\"*\",end=\" \")\n",
        "    else:\n",
        "      print(\" \",end=\" \")\n",
        "  for j in range(i):\n",
        "    if(j==i or j==n-1 or i==0):\n",
        "      print(\"*\",end=\" \")\n",
        "    else:\n",
        "      print(\" \",end=\" \")\n",
        "  print()\n"
      ],
      "metadata": {
        "colab": {
          "base_uri": "https://localhost:8080/"
        },
        "id": "SzGMbndO_yC3",
        "outputId": "617383d5-1922-44ec-d2d4-a5cdb908be41"
      },
      "execution_count": 7,
      "outputs": [
        {
          "output_type": "stream",
          "name": "stdout",
          "text": [
            "          * \n",
            "          *   \n",
            "          *     \n",
            "          *       \n",
            "  * * * * *         \n"
          ]
        }
      ]
    },
    {
      "cell_type": "code",
      "source": [
        "n = 5\n",
        "for i in range(n-1):\n",
        "    for j in range(i,n):\n",
        "        print(\" \",end=\" \")\n",
        "    for j in range(i):\n",
        "        if(i==j or i==n-1 or j==0):\n",
        "            print(\"*\",end=\" \")\n",
        "        else:\n",
        "            print(\" \",end=' ')\n",
        "    for j in range(i+1):\n",
        "        if(i==n-1 or j==n-1 or j==i):\n",
        "            print(\"*\",end=\" \")\n",
        "        else:\n",
        "            print(\" \",end=' ')\n",
        "    print()\n",
        "for i in range(n):\n",
        "    for j in range(i+1):\n",
        "        print(\" \",end=\" \")\n",
        "    for j in range(i,n-1):\n",
        "        if(i==j or i==n-1 or j==0):\n",
        "            print(\"*\",end=\" \")\n",
        "        else:\n",
        "            print(\" \",end=' ')\n",
        "    for j in range(i,n):\n",
        "        if(i==n-1 or j==n-1):\n",
        "            print(\"*\",end=\" \")\n",
        "        else:\n",
        "            print(\" \",end=' ')\n",
        "    print()"
      ],
      "metadata": {
        "colab": {
          "base_uri": "https://localhost:8080/"
        },
        "id": "SvBnGaffEw8j",
        "outputId": "1f1e1bb0-ae00-42ac-af38-87c661960e5a"
      },
      "execution_count": 9,
      "outputs": [
        {
          "output_type": "stream",
          "name": "stdout",
          "text": [
            "          * \n",
            "        *   * \n",
            "      *       * \n",
            "    *           * \n",
            "  *               * \n",
            "    *           * \n",
            "      *       * \n",
            "        *   * \n",
            "          * \n"
          ]
        }
      ]
    }
  ]
}