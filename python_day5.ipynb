{
  "nbformat": 4,
  "nbformat_minor": 0,
  "metadata": {
    "colab": {
      "provenance": [],
      "authorship_tag": "ABX9TyOf/K2lb7njIWVCcUiYvwwT",
      "include_colab_link": true
    },
    "kernelspec": {
      "name": "python3",
      "display_name": "Python 3"
    },
    "language_info": {
      "name": "python"
    }
  },
  "cells": [
    {
      "cell_type": "markdown",
      "metadata": {
        "id": "view-in-github",
        "colab_type": "text"
      },
      "source": [
        "<a href=\"https://colab.research.google.com/github/n-prathyusha82/pyramids_python/blob/main/python_day5.ipynb\" target=\"_parent\"><img src=\"https://colab.research.google.com/assets/colab-badge.svg\" alt=\"Open In Colab\"/></a>"
      ]
    },
    {
      "cell_type": "markdown",
      "source": [
        "**pb-1:\n",
        "Given an array Integer arr[n] here n is the size of the given array, K is an Integer, Now in the array we have for perfors the below function\n",
        "--> We can select any two integers from the array and add the floor division i.e floor(a[i]/a[j]), here a[i] and a[j] two numbers of the array. Once a integer from a array is selected in a pair then it can't be selected again.\n",
        "We have to perform this operation K times, and the remaining element in the array which is not been part of any pair is added to the result.\n",
        "we have to return the minimum sum possible after performing the above operation.\n",
        "Constraints:\n",
        "2<=N<=1000;\n",
        "@cak<<N/2\n",
        "Input:\n",
        "83\n",
        "11121131\n",
        "output\n",
        "3**\n"
      ],
      "metadata": {
        "id": "_fJXpyRQO0MR"
      }
    },
    {
      "cell_type": "code",
      "source": [
        "def min_sum_possible(arr, k):\n",
        "  arr.sort(reverse=True)\n",
        "  res = 0\n",
        "  for i in range(0, 2 * k, 2):\n",
        "    res += arr[i] // arr[i + 1]\n",
        "  return res + sum(arr[2 * k:])\n",
        "arr = [83, 11121131]\n",
        "k = 1\n",
        "print(min_sum_possible(arr, k))"
      ],
      "metadata": {
        "colab": {
          "base_uri": "https://localhost:8080/"
        },
        "id": "cLhy2i1WQJ5P",
        "outputId": "bc5d4d41-c086-452a-8277-d461a13b7fe8"
      },
      "execution_count": 4,
      "outputs": [
        {
          "output_type": "stream",
          "name": "stdout",
          "text": [
            "133989\n"
          ]
        }
      ]
    },
    {
      "cell_type": "markdown",
      "source": [
        "**pb2:\n",
        "Implement the following function:\n",
        "def MinSquares(n):\n",
        "The function accepts a positive integer 'n'as its argument.A the count the min number of squares that adds up to 'n' are:\n",
        "example:\n",
        "i/p:n:13\n",
        "o/p:2\n",
        "explanation:squares of integers are:\n",
        "1^2=1,2^2=4,3^2=9,4^2=16 and so on...**"
      ],
      "metadata": {
        "id": "aBRdiKZsVKbC"
      }
    },
    {
      "cell_type": "code",
      "source": [
        "def MinSquares(n):\n",
        "  dp = [0] + [n] * n\n",
        "  for i in range(1, n + 1):\n",
        "    for j in range(1, int(i**0.5) + 1):\n",
        "      dp[i] = min(dp[i], dp[i - j * j] + 1)\n",
        "  return dp[n]\n",
        "n = 13\n",
        "print(MinSquares(n))"
      ],
      "metadata": {
        "colab": {
          "base_uri": "https://localhost:8080/"
        },
        "id": "9QA219CwVCqm",
        "outputId": "0c11e5ef-0adc-426c-db51-d140ec3f3ad4"
      },
      "execution_count": 5,
      "outputs": [
        {
          "output_type": "stream",
          "name": "stdout",
          "text": [
            "2\n"
          ]
        }
      ]
    },
    {
      "cell_type": "markdown",
      "source": [
        "**pb3:\n",
        "Sum of Binary Digits Problem Statement: You are given a number N. Convert the number to its binary form and return the sum of its binary digits (i.e., the number of 1’s in the binary representation). Example: Input: 15 Binary of 15 is 1111, so the sum is 4.**"
      ],
      "metadata": {
        "id": "JX1uOj5zYsdE"
      }
    },
    {
      "cell_type": "code",
      "source": [
        "def sumofbinarydigits(n):\n",
        "  return bin(n).count('1')\n",
        "n = int(input())\n",
        "print(sumofbinarydigits(n))"
      ],
      "metadata": {
        "colab": {
          "base_uri": "https://localhost:8080/"
        },
        "id": "ExKfXe4JbShH",
        "outputId": "82fe736f-2fa7-4d37-a0e7-ab873ae2b668"
      },
      "execution_count": 6,
      "outputs": [
        {
          "output_type": "stream",
          "name": "stdout",
          "text": [
            "15\n",
            "4\n"
          ]
        }
      ]
    },
    {
      "cell_type": "markdown",
      "source": [
        "**pb4:Given an integer numRows, RETURN THE FIRST NUMrOWS OF pASCAL'S triangle.In pascal's triangle,each number is the sm of the two numbers directly above it as shown: ex-1:i/p: numRows = 5,o/p: [[1],[1,1],[1,2,1],[1,3,3,1],[1,4,6,4,1]]**"
      ],
      "metadata": {
        "id": "DGChHjyLbaG4"
      }
    },
    {
      "cell_type": "code",
      "source": [
        "def generate(numRows):\n",
        "    triangle = [[1]]\n",
        "    for i in range(1, numRows):\n",
        "        row = [1] + [triangle[i-1][j-1] + triangle[i-1][j] for j in range(1, i)] + [1]\n",
        "        triangle.append(row)\n",
        "    return triangle\n",
        "numRows = 5\n",
        "print(generate(numRows))"
      ],
      "metadata": {
        "colab": {
          "base_uri": "https://localhost:8080/"
        },
        "id": "xFWUHU0Lbctt",
        "outputId": "7d8ffe15-aa51-4a8e-f84b-0673c672ad23"
      },
      "execution_count": 7,
      "outputs": [
        {
          "output_type": "stream",
          "name": "stdout",
          "text": [
            "[[1], [1, 1], [1, 2, 1], [1, 3, 3, 1], [1, 4, 6, 4, 1]]\n"
          ]
        }
      ]
    },
    {
      "cell_type": "markdown",
      "source": [
        "**pb5:Balanced strings are those that have an equal quantity of 'L' and 'R' characters.Given a balanced string s, split it into some number of substrings such that: each substring is balanced.Return the max number of balanced string youcan obtain.ex-1:i/p:s = \"RLRRLLRLRL\",O/P: 4, Explanation: s can be split into RL,RRLL,RL,RL, each substring contains same number of'L' and 'R'.**"
      ],
      "metadata": {
        "id": "uz65TbPnb7Xq"
      }
    },
    {
      "cell_type": "code",
      "source": [
        "def sub_string(s):\n",
        "  count = balance = 0\n",
        "  for char in s:\n",
        "    balance += 1 if char == 'L' else -1\n",
        "    if balance == 0:\n",
        "      count += 1\n",
        "  return count\n",
        "s = \"LLLLRRRR\"\n",
        "print(sub_string(s))"
      ],
      "metadata": {
        "colab": {
          "base_uri": "https://localhost:8080/"
        },
        "id": "2QJWgVmocA-H",
        "outputId": "007abb33-82e4-444e-a57f-fd5557d0a745"
      },
      "execution_count": 8,
      "outputs": [
        {
          "output_type": "stream",
          "name": "stdout",
          "text": [
            "1\n"
          ]
        }
      ]
    },
    {
      "cell_type": "markdown",
      "source": [
        "**pb6:\n",
        "You are given an array prices where prices[i] is the price of a given stock on the i th day.You want to maximize your profit by choosing a single day to buy one stock and choosing a different day in the future to sell that stock.Return the max profit you csn schieve from this transaction.If you can't achieve any profit, return 0.ex-1:i/p: prices=[7,1,5,3,6,4],o/p:5**"
      ],
      "metadata": {
        "id": "j18CBPCxcIil"
      }
    },
    {
      "cell_type": "code",
      "source": [
        "def max_profit(prices):\n",
        "  min_price = prices[0]\n",
        "  max_profit = 0\n",
        "  for price in prices[1:]:\n",
        "    min_price = min(min_price, price)\n",
        "    max_profit = max(max_profit, price - min_price)\n",
        "  return max_profit\n",
        "prices = [7, 1, 5, 3, 6, 4]\n",
        "print(max_profit(prices))"
      ],
      "metadata": {
        "colab": {
          "base_uri": "https://localhost:8080/"
        },
        "id": "tmVAKrxFcLvq",
        "outputId": "29907feb-0102-400e-bbfe-7d77d722a5d2"
      },
      "execution_count": 9,
      "outputs": [
        {
          "output_type": "stream",
          "name": "stdout",
          "text": [
            "5\n"
          ]
        }
      ]
    }
  ]
}