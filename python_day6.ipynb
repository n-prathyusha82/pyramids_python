{
  "nbformat": 4,
  "nbformat_minor": 0,
  "metadata": {
    "colab": {
      "provenance": [],
      "authorship_tag": "ABX9TyN8A2F983IFdD5VeLBGv3fL",
      "include_colab_link": true
    },
    "kernelspec": {
      "name": "python3",
      "display_name": "Python 3"
    },
    "language_info": {
      "name": "python"
    }
  },
  "cells": [
    {
      "cell_type": "markdown",
      "metadata": {
        "id": "view-in-github",
        "colab_type": "text"
      },
      "source": [
        "<a href=\"https://colab.research.google.com/github/n-prathyusha82/pyramids_python/blob/main/python_day6.ipynb\" target=\"_parent\"><img src=\"https://colab.research.google.com/assets/colab-badge.svg\" alt=\"Open In Colab\"/></a>"
      ]
    },
    {
      "cell_type": "markdown",
      "source": [
        "**1.The included code stub will read an integer,n,from STDIN.\n",
        "Without using any string methods, try to print the following:123----n\n",
        "Note that \"...\" represents the consecutive values in between.\n",
        "Example: n = 5\n",
        "Print the string 12345.\n",
        "Input Format\n",
        "The first line contains an integer n.\n",
        "Constraints: 1<=n<=150\n",
        "Output Format:\n",
        "Print the list of integers from 1 through  as a string, without spaces.\n",
        "Sample Input 0\n",
        "3\n",
        "Sample Output 0\n",
        "123**"
      ],
      "metadata": {
        "id": "vPayEJ1myspL"
      }
    },
    {
      "cell_type": "code",
      "source": [
        "n = int(input())\n",
        "for i in range(1, n+1):\n",
        "  print(i, end=\"\")"
      ],
      "metadata": {
        "colab": {
          "base_uri": "https://localhost:8080/"
        },
        "id": "pPrb98eL3Ezj",
        "outputId": "8f452705-0217-40a3-c783-e507412b5aaf"
      },
      "execution_count": 2,
      "outputs": [
        {
          "output_type": "stream",
          "name": "stdout",
          "text": [
            "3\n",
            "123"
          ]
        }
      ]
    },
    {
      "cell_type": "markdown",
      "source": [
        "**2.Given an integer, , perform the following conditional actions:\n",
        "If n is odd, print Weird\n",
        "If n is even and in the inclusive range of 2 to 5 to , print Not Weird\n",
        "If n is even and in the inclusive range of 6 to 20 to , print Weird\n",
        "If n is even and greater than 20, print Not Weird\n",
        "Input Format\n",
        "A single line containing a positive integer,n.\n",
        "Constraints: 1<=n<=100\n",
        "Output Format:\n",
        "Print Weird if the number is weird. Otherwise, print Not Weird.\n",
        "Sample Input 0:\n",
        "3\n",
        "Sample Output 0:\n",
        "Weird\n",
        "Explanation 0: n = 3\n",
        "n is odd and odd numbers are weird, so print Weird.\n",
        "Sample Input 1\n",
        "24\n",
        "Sample Output 1:\n",
        "Not Weird**"
      ],
      "metadata": {
        "id": "eGzxD0FI3zne"
      }
    },
    {
      "cell_type": "code",
      "source": [
        "def calculate(n):\n",
        "  if n % 2 != 0 or (n % 2 == 0 and 6 <= n <= 20):\n",
        "    return \"Weird\"\n",
        "  else:\n",
        "    return \"Not Weird\"\n",
        "n = int(input())\n",
        "print(calculate(n))"
      ],
      "metadata": {
        "colab": {
          "base_uri": "https://localhost:8080/"
        },
        "id": "fAb1B2Yw48TP",
        "outputId": "784e54be-644c-4dd9-975b-abb5de74e375"
      },
      "execution_count": 4,
      "outputs": [
        {
          "output_type": "stream",
          "name": "stdout",
          "text": [
            "3\n",
            "Weird\n"
          ]
        }
      ]
    },
    {
      "cell_type": "markdown",
      "source": [
        "**3.The provided code stub reads two integers from STDIN,a and b. Add code to print three lines where:\n",
        "The first line contains the sum of the two numbers.\n",
        "The second line contains the difference of the two numbers (first - second).\n",
        "The third line contains the product of the two numbers.\n",
        "Example: a = 3, b = 5\n",
        "Print the following:\n",
        "8\n",
        "-2\n",
        "15\n",
        "Input Format:\n",
        "The first line contains the first integer,a.\n",
        "The second line contains the second integer,b.\n",
        "Output Format:\n",
        "Print the three lines as explained above.\n",
        "Sample Input 0:\n",
        "3\n",
        "2\n",
        "Sample Output 0:\n",
        "5\n",
        "1\n",
        "6\n",
        "Explanation 0: 3+2 = 5, 3-2= 1, 3*2 = 6**"
      ],
      "metadata": {
        "id": "MxTSVzOU6vwi"
      }
    },
    {
      "cell_type": "code",
      "source": [
        "a = int(input(\"Enter a value of a = \"))\n",
        "b = int(input(\"Enter a value of b = \"))\n",
        "print(a + b)\n",
        "print(a - b)\n",
        "print(a * b)"
      ],
      "metadata": {
        "colab": {
          "base_uri": "https://localhost:8080/"
        },
        "id": "JkoI7cRt739v",
        "outputId": "81d7dd8e-d1fa-40a9-f86a-b6f381287184"
      },
      "execution_count": 6,
      "outputs": [
        {
          "output_type": "stream",
          "name": "stdout",
          "text": [
            "Enter a value of a = 3\n",
            "Enter a value of b = 5\n",
            "8\n",
            "-2\n",
            "15\n"
          ]
        }
      ]
    },
    {
      "cell_type": "markdown",
      "source": [
        "**4.The provided code stub reads two integers,a and b,from STDIN.\n",
        "Add logic to print two lines. The first line should contain the result of integer division, a // b.The second line should contain the result of float division,a / b.\n",
        "No rounding or formatting is necessary.\n",
        "Example: a = 3, b = 5.\n",
        "The result of the integer division 3 // 5 = 0.\n",
        "The result of the float division is 3 / 5 = 0.6.\n",
        "Print:\n",
        "0,\n",
        "0.6\n",
        "Input Format:\n",
        "The first line contains the first integer,a.\n",
        "The second line contains the second integer,b.\n",
        "Output Format:\n",
        "Print the two lines as described above.\n",
        "Sample Input 0:\n",
        "4,\n",
        "3\n",
        "Sample Output 0:\n",
        "1,\n",
        "1.33333333333**"
      ],
      "metadata": {
        "id": "PGV6WAJO87O9"
      }
    },
    {
      "cell_type": "code",
      "source": [
        "a = int(input(\"Enter the value of a = \"))\n",
        "b = int(input(\"Enter the value of b = \"))\n",
        "print(a // b)\n",
        "print(a / b)"
      ],
      "metadata": {
        "colab": {
          "base_uri": "https://localhost:8080/"
        },
        "id": "cTlwxLT1-iPZ",
        "outputId": "ac55114d-1de9-44a9-c726-692e9dbd8b64"
      },
      "execution_count": 7,
      "outputs": [
        {
          "output_type": "stream",
          "name": "stdout",
          "text": [
            "Enter the value of a = 4\n",
            "Enter the value of b = 3\n",
            "1\n",
            "1.3333333333333333\n"
          ]
        }
      ]
    },
    {
      "cell_type": "markdown",
      "source": [
        "**5.The provided code stub reads and integer,n,from STDIN. For all non-negative integers i<n,print i(square).\n",
        "Example: n = 3\n",
        "The list of non-negative integers that are less than n = 3 is[0,1,2]. Print the square of each number on a separate line.\n",
        "0,\n",
        "1,\n",
        "4\n",
        "Input Format:\n",
        "The first and only line contains the integer,n.\n",
        "Constraints: 1<=n<=20\n",
        "Output Format:\n",
        "Print n lines, one corresponding to each i.\n",
        "Sample Input 0:\n",
        "5\n",
        "Sample Output 0:\n",
        "0\n",
        "1\n",
        "4\n",
        "9\n",
        "16**"
      ],
      "metadata": {
        "id": "VqIkIFF4_SFd"
      }
    },
    {
      "cell_type": "code",
      "source": [
        "n = int(input())\n",
        "for i in range(n):\n",
        "  print( i ** 2)"
      ],
      "metadata": {
        "colab": {
          "base_uri": "https://localhost:8080/"
        },
        "id": "I6U6QGt3_RgO",
        "outputId": "63e9eeef-f1ec-4e9e-ace2-0e3fae059e1f"
      },
      "execution_count": 10,
      "outputs": [
        {
          "output_type": "stream",
          "name": "stdout",
          "text": [
            "5\n",
            "0\n",
            "1\n",
            "4\n",
            "9\n",
            "16\n"
          ]
        }
      ]
    },
    {
      "cell_type": "markdown",
      "source": [
        "**6.An extra day is added to the calendar almost every four years as February 29, and the day is called a leap day. It corrects the calendar for the fact that our planet takes approximately 365.25 days to orbit the sun. A leap year contains a leap day.\n",
        "In the Gregorian calendar, three conditions are used to identify leap years:\n",
        "The year can be evenly divided by 4, is a leap year, unless:\n",
        "The year can be evenly divided by 100, it is NOT a leap year, unless:\n",
        "The year is also evenly divisible by 400. Then it is a leap year.\n",
        "This means that in the Gregorian calendar, the years 2000 and 2400 are leap years, while 1800, 1900, 2100, 2200, 2300 and 2500 are NOT leap years. Source\n",
        "Task is,\n",
        "Given a year, determine whether it is a leap year. If it is a leap year, return the Boolean True, otherwise return False.\n",
        "Note that the code stub provided reads from STDIN and passes arguments to the is_leap function. It is only necessary to complete the is_leap function.\n",
        "Input Format:\n",
        "Read year, the year to test.\n",
        "Constraints:1900<=year<=10(5 square).\n",
        "Output Format:\n",
        "The function must return a Boolean value (True/False). Output is handled by the provided code stub.\n",
        "Sample Input 0:\n",
        "1990\n",
        "Sample Output 0\"\n",
        "False\n",
        "Explanation 0:\n",
        "1990 is not a multiple of 4 hence it's not a leap year.**"
      ],
      "metadata": {
        "id": "_-CGvJx2BEMa"
      }
    },
    {
      "cell_type": "code",
      "source": [
        "def leap_year(year):\n",
        "  if year % 4 == 0 and (year % 100 != 0 or year % 400 == 0):\n",
        "    return \"leap_year\"\n",
        "  else:\n",
        "    return \"Not a leap_year\"\n",
        "year = int(input())\n",
        "print(leap_year(year))"
      ],
      "metadata": {
        "colab": {
          "base_uri": "https://localhost:8080/"
        },
        "id": "a0-oVFCFCDAI",
        "outputId": "f954f5a4-6071-40b9-b5c9-ea699922d68b"
      },
      "execution_count": 11,
      "outputs": [
        {
          "output_type": "stream",
          "name": "stdout",
          "text": [
            "2003\n",
            "Not a leap_year\n"
          ]
        }
      ]
    }
  ]
}