{
  "nbformat": 4,
  "nbformat_minor": 0,
  "metadata": {
    "colab": {
      "provenance": [],
      "authorship_tag": "ABX9TyOrj8yE+dSbQ1JeHmnw1Z9/",
      "include_colab_link": true
    },
    "kernelspec": {
      "name": "python3",
      "display_name": "Python 3"
    },
    "language_info": {
      "name": "python"
    }
  },
  "cells": [
    {
      "cell_type": "markdown",
      "metadata": {
        "id": "view-in-github",
        "colab_type": "text"
      },
      "source": [
        "<a href=\"https://colab.research.google.com/github/n-prathyusha82/pyramids_python/blob/main/python_day4.ipynb\" target=\"_parent\"><img src=\"https://colab.research.google.com/assets/colab-badge.svg\" alt=\"Open In Colab\"/></a>"
      ]
    },
    {
      "cell_type": "markdown",
      "source": [
        "**1.Given three arrays,arr1,arr2,arr3,you need to calculate the following:\n",
        "1.Count the number of elements that are present in arr1 but not in arr2 and arr3\n",
        "2.count the number of elements that are present in arr2 but not in arr1 and arr3.\n",
        "3.count the number of elements that are present in arr3 but not in arr1 and arr2.**"
      ],
      "metadata": {
        "id": "zeHMzpXwDZQH"
      }
    },
    {
      "cell_type": "code",
      "source": [
        "def count_numbers(arr1,arr2,arr3):\n",
        "  s1 = set(arr1)\n",
        "  s2 = set(arr2)\n",
        "  s3 = set(arr3)\n",
        "  return len(s1 - s2 - s3), len(s2 - s1 - s3), len(s3 - s1 - s2)\n",
        "arr1 = [1,2,3,4,5]\n",
        "arr2 = [2,3,4,5,6]\n",
        "arr3 = [3,4,5,6,7]\n",
        "print(count_numbers(arr1,arr2,arr3))"
      ],
      "metadata": {
        "colab": {
          "base_uri": "https://localhost:8080/"
        },
        "id": "uPj4QvEGDYTA",
        "outputId": "7ac9837a-c9c8-4cff-eeab-780fe92fcbd3"
      },
      "execution_count": 1,
      "outputs": [
        {
          "output_type": "stream",
          "name": "stdout",
          "text": [
            "(1, 0, 1)\n"
          ]
        }
      ]
    },
    {
      "cell_type": "markdown",
      "source": [
        "**2.You are given a number n.Your task is the number is prefect sums in the range 1-N.\n",
        "A number is called a perfect sum it can be expressed as the sum of perfect square and perfect cube.\n",
        "For eg. For n  =9, 2^3+1^2=9\n",
        "i/p:N=5\n",
        "o/p:2\n",
        "1^2+1^3=2;\n",
        "1^3+2^2=5**"
      ],
      "metadata": {
        "id": "qsosKqCYQFm4"
      }
    },
    {
      "cell_type": "code",
      "source": [
        "def count_perfect_sums(N):\n",
        "    count = 0\n",
        "    for i in range(1, int(N**0.5) + 1):\n",
        "        for j in range(1, int(N**(1/3)) + 1):\n",
        "            if i**2 + j**3 <= N:\n",
        "                count += 1\n",
        "    return count\n",
        "N = 5\n",
        "print(count_perfect_sums(N))\n"
      ],
      "metadata": {
        "colab": {
          "base_uri": "https://localhost:8080/"
        },
        "id": "mognJ7e3UDYC",
        "outputId": "0b016133-2244-4093-f66d-7603b6dcd570"
      },
      "execution_count": 2,
      "outputs": [
        {
          "output_type": "stream",
          "name": "stdout",
          "text": [
            "2\n"
          ]
        }
      ]
    },
    {
      "cell_type": "markdown",
      "source": [
        "**3.Given a number N.The task is to reduce the given number N to 1 in the min number of steps.You can perform any one of the below operations in each step.operation 1: If the number is even then youcan divide the number by 2.\n",
        "operation 2: If the number is odd then you are allowed to performer their (n+1)or (n-1).\n",
        "You need to print the min number of steps are required to reduce hte number N to 1 by performing the above operations.\n",
        "ex: i/p:n=15\n",
        "o/p:5\n",
        "15 is odd 15+1=16\n",
        "16 is even 16/2=8\n",
        "8 is even 8/2=4\n",
        "4 is even 4/2=2\n",
        "2 is even 2/2=1**"
      ],
      "metadata": {
        "id": "X8iGwJ8_CRze"
      }
    },
    {
      "cell_type": "code",
      "source": [
        "def minnumberofsteps(n):\n",
        "  count = 0\n",
        "  while n > 1:\n",
        "    if n % 2 == 0:\n",
        "      n // 2\n",
        "    else:\n",
        "      n -1 if n % 4 == 0 or n == 3 else n + 1\n",
        "    count += 1\n",
        "  return count\n",
        "n = 15\n",
        "print(minnumberofsteps(n))"
      ],
      "metadata": {
        "id": "6A-DHF2JLJ_2"
      },
      "execution_count": null,
      "outputs": []
    },
    {
      "cell_type": "markdown",
      "source": [
        "**4.Given an array containing N elements.Each element is either 0 or 5.Find the largest number divisible by 90 that can be made using any number of elements of this array and arranging them in any way. i/p1: arr[] = {5,5,5,5,5,5,5,5,0,5,5} o/p:5555555550**"
      ],
      "metadata": {
        "id": "cV_YiW9vKvO7"
      }
    },
    {
      "cell_type": "code",
      "source": [
        "def largestnumber(arr):\n",
        "  count_0 = arr.count(0)\n",
        "  count_5 = arr.count(5)\n",
        "  if count_0 == 0:\n",
        "    return \"0\"\n",
        "  count_5 = (count_5 // 9) * 9\n",
        "  if count_5 == 0:\n",
        "    return \"0\"\n",
        "  return \"5\" * count_5 + \"0\" * count_0\n",
        "arr = [5, 5, 5, 5, 5, 5, 5, 5, 0, 5, 5]\n",
        "print(largestnumber(arr))"
      ],
      "metadata": {
        "id": "727ImZcfebNJ"
      },
      "execution_count": null,
      "outputs": []
    },
    {
      "cell_type": "markdown",
      "source": [
        "**5.Given a number n, write a function that returns count of numbers from 1 to n that don't digit 3 in their decimal representation. ex- i/p: n = 10 o/p: 9 i/p2: n:45 o/p: 31 //numbers 31,13,23,30,31,32,33,34,35,36,37,39,43 contain digit 3.**"
      ],
      "metadata": {
        "id": "haxlpN2-egOg"
      }
    },
    {
      "cell_type": "code",
      "source": [
        "def decimalrepresentation(n):\n",
        "  count = 0\n",
        "  for i in range(1, n+1):\n",
        "    if '3' not in str(i):\n",
        "      count += 1\n",
        "  return count\n",
        "print(decimalrepresentation(45))"
      ],
      "metadata": {
        "id": "s7C7iUfBftnD"
      },
      "execution_count": null,
      "outputs": []
    },
    {
      "cell_type": "markdown",
      "source": [
        "**6.Maximum Chocolates Problem Statement: You are given an array of chocolate prices. If the price is divisible by 5, it’s free. Find the maximum number of chocolates a person can buy.**"
      ],
      "metadata": {
        "id": "YxbHBv84eox3"
      }
    },
    {
      "cell_type": "code",
      "source": [
        "def max_chocolates(prices):\n",
        "  count = 0\n",
        "  for price in prices:\n",
        "    if price % 5 == 0:\n",
        "      count += 1\n",
        "    else:\n",
        "      count += 1\n",
        "  return count\n",
        "prices = [2, 42, 12, 35, 23]\n",
        "print(max_chocolates(prices))"
      ],
      "metadata": {
        "id": "IjXXFhVJfpxR"
      },
      "execution_count": null,
      "outputs": []
    }
  ]
}