{
  "nbformat": 4,
  "nbformat_minor": 0,
  "metadata": {
    "colab": {
      "provenance": [],
      "authorship_tag": "ABX9TyNgRzZVCf8+zSmQkakcRHON",
      "include_colab_link": true
    },
    "kernelspec": {
      "name": "python3",
      "display_name": "Python 3"
    },
    "language_info": {
      "name": "python"
    }
  },
  "cells": [
    {
      "cell_type": "markdown",
      "metadata": {
        "id": "view-in-github",
        "colab_type": "text"
      },
      "source": [
        "<a href=\"https://colab.research.google.com/github/n-prathyusha82/pyramids_python/blob/main/python_day2.ipynb\" target=\"_parent\"><img src=\"https://colab.research.google.com/assets/colab-badge.svg\" alt=\"Open In Colab\"/></a>"
      ]
    },
    {
      "cell_type": "markdown",
      "source": [
        "**ascii values => A-Z => 65-90**\n",
        "**a-z => 97-122**\n",
        "**0-9 => 48-57**"
      ],
      "metadata": {
        "id": "3zWGdv5Zw8rD"
      }
    },
    {
      "cell_type": "code",
      "source": [
        "n = 5\n",
        "for i in range(n):\n",
        "  for j in range(i+1):\n",
        "    print(\"A\",end=\" \")\n",
        "  print()"
      ],
      "metadata": {
        "colab": {
          "base_uri": "https://localhost:8080/"
        },
        "id": "GpoZtLRpx95U",
        "outputId": "36553fd0-4d70-4e23-8dd8-abbb5444ad90"
      },
      "execution_count": 14,
      "outputs": [
        {
          "output_type": "stream",
          "name": "stdout",
          "text": [
            "A \n",
            "A A \n",
            "A A A \n",
            "A A A A \n",
            "A A A A A \n"
          ]
        }
      ]
    },
    {
      "cell_type": "code",
      "source": [
        "n = 5\n",
        "p = 65\n",
        "for i in range(n):\n",
        "  for j in range(i+1):\n",
        "    print(chr(p),end=\" \")\n",
        "    p+=1\n",
        "  print()"
      ],
      "metadata": {
        "colab": {
          "base_uri": "https://localhost:8080/"
        },
        "id": "dmvJGb08yZL9",
        "outputId": "19ab5d28-1019-475a-aed8-8587b4be2d55"
      },
      "execution_count": 15,
      "outputs": [
        {
          "output_type": "stream",
          "name": "stdout",
          "text": [
            "A \n",
            "B C \n",
            "D E F \n",
            "G H I J \n",
            "K L M N O \n"
          ]
        }
      ]
    },
    {
      "cell_type": "code",
      "source": [
        "n = 5\n",
        "p = 65\n",
        "for i in range(n):\n",
        "  for j in range(i+1):\n",
        "    print(chr(p),end=\" \")\n",
        "  p+=1\n",
        "  print()"
      ],
      "metadata": {
        "colab": {
          "base_uri": "https://localhost:8080/"
        },
        "id": "m0DaqV1LyuJS",
        "outputId": "cf206d98-d622-489e-d0ee-acba82d431cb"
      },
      "execution_count": 16,
      "outputs": [
        {
          "output_type": "stream",
          "name": "stdout",
          "text": [
            "A \n",
            "B B \n",
            "C C C \n",
            "D D D D \n",
            "E E E E E \n"
          ]
        }
      ]
    },
    {
      "cell_type": "code",
      "source": [
        "n = 5\n",
        "for i in range(n):\n",
        "  p = 65\n",
        "  for j in range(i+1):\n",
        "    print(chr(p),end=\" \")\n",
        "    p+=1\n",
        "  print()"
      ],
      "metadata": {
        "colab": {
          "base_uri": "https://localhost:8080/"
        },
        "id": "H4KSOHYey-Bx",
        "outputId": "1f19065b-c3a7-48d5-90e4-b5ef61064c59"
      },
      "execution_count": 17,
      "outputs": [
        {
          "output_type": "stream",
          "name": "stdout",
          "text": [
            "A \n",
            "A B \n",
            "A B C \n",
            "A B C D \n",
            "A B C D E \n"
          ]
        }
      ]
    },
    {
      "cell_type": "code",
      "source": [
        "n = 5\n",
        "p = 97+n-1\n",
        "for i in range(n):\n",
        "  for j in range(i+1):\n",
        "      print(chr(p),end=\" \")\n",
        "  p-=1\n",
        "  print()"
      ],
      "metadata": {
        "colab": {
          "base_uri": "https://localhost:8080/"
        },
        "id": "WT96IdiczjsJ",
        "outputId": "e54db511-2b33-429f-fd87-12d960cfecda"
      },
      "execution_count": 18,
      "outputs": [
        {
          "output_type": "stream",
          "name": "stdout",
          "text": [
            "e \n",
            "d d \n",
            "c c c \n",
            "b b b b \n",
            "a a a a a \n"
          ]
        }
      ]
    },
    {
      "cell_type": "code",
      "source": [
        "n = 5\n",
        "for i in range(n):\n",
        "  p = 97+n-1\n",
        "  for j in range(i+1):\n",
        "    print(chr(p),end=\" \")\n",
        "    p-=1\n",
        "  print()\n"
      ],
      "metadata": {
        "colab": {
          "base_uri": "https://localhost:8080/"
        },
        "id": "dqoziW1D0IF7",
        "outputId": "4630dca3-d4d1-4902-e39c-2261160f8445"
      },
      "execution_count": 19,
      "outputs": [
        {
          "output_type": "stream",
          "name": "stdout",
          "text": [
            "e \n",
            "e d \n",
            "e d c \n",
            "e d c b \n",
            "e d c b a \n"
          ]
        }
      ]
    },
    {
      "cell_type": "code",
      "source": [
        "n = 5\n",
        "for i in range(n):\n",
        "  p = 1\n",
        "  for j in range(i,n):\n",
        "    print(\" \",end=\" \")\n",
        "  for j in range(i):\n",
        "    print(p,end=\" \")\n",
        "    p+=1\n",
        "  for j in range(i+1):\n",
        "    print(p,end=\" \")\n",
        "    p+=1\n",
        "  print()"
      ],
      "metadata": {
        "colab": {
          "base_uri": "https://localhost:8080/"
        },
        "id": "vmRYTw8B0ICe",
        "outputId": "21ae9492-f82b-4a76-88c0-6823b9c4e119"
      },
      "execution_count": 20,
      "outputs": [
        {
          "output_type": "stream",
          "name": "stdout",
          "text": [
            "          1 \n",
            "        1 2 3 \n",
            "      1 2 3 4 5 \n",
            "    1 2 3 4 5 6 7 \n",
            "  1 2 3 4 5 6 7 8 9 \n"
          ]
        }
      ]
    },
    {
      "cell_type": "code",
      "source": [
        "n = 5\n",
        "for i in range(n):\n",
        "  p = 1\n",
        "  for j in range(i,n):\n",
        "    print(\" \",end=\" \")\n",
        "  for j in range(i):\n",
        "    print(p,end=\" \")\n",
        "    p+=1\n",
        "  for j in range(i+1):\n",
        "    print(p,end=\" \")\n",
        "    p-=1\n",
        "  print()"
      ],
      "metadata": {
        "colab": {
          "base_uri": "https://localhost:8080/"
        },
        "id": "8oINANY81pzf",
        "outputId": "2e1c73af-dd8a-4bca-836b-f7fe9708e76a"
      },
      "execution_count": 21,
      "outputs": [
        {
          "output_type": "stream",
          "name": "stdout",
          "text": [
            "          1 \n",
            "        1 2 1 \n",
            "      1 2 3 2 1 \n",
            "    1 2 3 4 3 2 1 \n",
            "  1 2 3 4 5 4 3 2 1 \n"
          ]
        }
      ]
    },
    {
      "cell_type": "code",
      "source": [
        "s = \"prathyu\"\n",
        "n = len(s)\n",
        "p = 0\n",
        "for i in range(n):\n",
        "  for j in range(i,n):\n",
        "    print(\" \",end=\" \")\n",
        "  for i in range(i+1):\n",
        "    print(s[p],end=\" \")\n",
        "  p+=1\n",
        "  print()"
      ],
      "metadata": {
        "colab": {
          "base_uri": "https://localhost:8080/"
        },
        "id": "GgkREkbw2GwB",
        "outputId": "9719cd4d-630b-49af-e97d-6e7efa65c6d6"
      },
      "execution_count": 22,
      "outputs": [
        {
          "output_type": "stream",
          "name": "stdout",
          "text": [
            "              p \n",
            "            r r \n",
            "          a a a \n",
            "        t t t t \n",
            "      h h h h h \n",
            "    y y y y y y \n",
            "  u u u u u u u \n"
          ]
        }
      ]
    },
    {
      "cell_type": "code",
      "source": [
        "s = \"prathyu\"\n",
        "n = len(s)\n",
        "p = n-1\n",
        "for i in range(n):\n",
        "  for j in range(i,n):\n",
        "    print(\" \",end=\" \")\n",
        "  for j in range(i+1):\n",
        "    print(s[p],end=\" \")\n",
        "  p-=1\n",
        "  print()"
      ],
      "metadata": {
        "id": "p9Q8XviS4e4P",
        "colab": {
          "base_uri": "https://localhost:8080/"
        },
        "outputId": "47123ddc-d081-4cfc-a82c-aa7ab0b9e26b"
      },
      "execution_count": 23,
      "outputs": [
        {
          "output_type": "stream",
          "name": "stdout",
          "text": [
            "              u \n",
            "            y y \n",
            "          h h h \n",
            "        t t t t \n",
            "      a a a a a \n",
            "    r r r r r r \n",
            "  p p p p p p p \n"
          ]
        }
      ]
    },
    {
      "cell_type": "code",
      "source": [
        "s = \"prathyu\"\n",
        "n = len(s)\n",
        "k = n-1\n",
        "for i in range(n):\n",
        "  p = k\n",
        "  for j in range(i+1):\n",
        "    print(\" \",end=\" \")\n",
        "  for j in range(i,n):\n",
        "    print(s[p],end=\" \")\n",
        "    p-=1\n",
        "  k-=1\n",
        "  print()"
      ],
      "metadata": {
        "id": "187spfvr30R2",
        "colab": {
          "base_uri": "https://localhost:8080/"
        },
        "outputId": "9ec75de7-7e9d-488e-c40f-53cf342a0fe5"
      },
      "execution_count": 24,
      "outputs": [
        {
          "output_type": "stream",
          "name": "stdout",
          "text": [
            "  u y h t a r p \n",
            "    y h t a r p \n",
            "      h t a r p \n",
            "        t a r p \n",
            "          a r p \n",
            "            r p \n",
            "              p \n"
          ]
        }
      ]
    },
    {
      "cell_type": "code",
      "source": [
        "n = 5\n",
        "for i in range(n):\n",
        "  for j in range(n):\n",
        "    if(j==0 or j==n-1):\n",
        "      print(\"*\",end=\" \")\n",
        "    else:\n",
        "      print(\" \",end=\" \")\n",
        "  print()"
      ],
      "metadata": {
        "colab": {
          "base_uri": "https://localhost:8080/"
        },
        "id": "H43NH95l5NeN",
        "outputId": "e6470c6f-23d6-4e8c-b943-1603b6aa4971"
      },
      "execution_count": 25,
      "outputs": [
        {
          "output_type": "stream",
          "name": "stdout",
          "text": [
            "*       * \n",
            "*       * \n",
            "*       * \n",
            "*       * \n",
            "*       * \n"
          ]
        }
      ]
    },
    {
      "cell_type": "code",
      "source": [
        "n = 5\n",
        "for i in range(n):\n",
        "  for j in range(n):\n",
        "    if(i==0 or i==n-1):\n",
        "      print(\"*\",end=\" \")\n",
        "    else:\n",
        "      print(\" \",end=\" \")\n",
        "  print()"
      ],
      "metadata": {
        "colab": {
          "base_uri": "https://localhost:8080/"
        },
        "id": "8cRkO6YH6Rg-",
        "outputId": "8889e649-4ef6-4344-a58d-1681358e549c"
      },
      "execution_count": 26,
      "outputs": [
        {
          "output_type": "stream",
          "name": "stdout",
          "text": [
            "* * * * * \n",
            "          \n",
            "          \n",
            "          \n",
            "* * * * * \n"
          ]
        }
      ]
    },
    {
      "cell_type": "code",
      "source": [
        "n = 5\n",
        "for i in range(n):\n",
        "  for j in range(n):\n",
        "    if(i==j):\n",
        "      print(\"*\",end=\" \")\n",
        "    else:\n",
        "      print(\" \",end=\" \")\n",
        "  print()"
      ],
      "metadata": {
        "colab": {
          "base_uri": "https://localhost:8080/"
        },
        "id": "60J7QwO56rWw",
        "outputId": "97a5143d-2c17-4ed7-c4cd-ab45c535d1bb"
      },
      "execution_count": 27,
      "outputs": [
        {
          "output_type": "stream",
          "name": "stdout",
          "text": [
            "*         \n",
            "  *       \n",
            "    *     \n",
            "      *   \n",
            "        * \n"
          ]
        }
      ]
    },
    {
      "cell_type": "code",
      "source": [
        "n = 5\n",
        "for i in range(n):\n",
        "  for j in range(n):\n",
        "    if(i+j==n-1):\n",
        "      print(\"1\",end=\" \")\n",
        "    else:\n",
        "      print(\" \",end=\" \")\n",
        "  print()"
      ],
      "metadata": {
        "colab": {
          "base_uri": "https://localhost:8080/"
        },
        "id": "sfDleSaS68nJ",
        "outputId": "a6fa9ee6-b48c-4ff6-ee9d-7f6b68bcfd3d"
      },
      "execution_count": 29,
      "outputs": [
        {
          "output_type": "stream",
          "name": "stdout",
          "text": [
            "        1 \n",
            "      1   \n",
            "    1     \n",
            "  1       \n",
            "1         \n"
          ]
        }
      ]
    },
    {
      "cell_type": "code",
      "source": [
        "n = 7\n",
        "for i in range(n):\n",
        "  for j in range(n):\n",
        "    if(i==j  or i+j==n-1):\n",
        "      print(\"*\",end=\" \")\n",
        "    else:\n",
        "      print(\" \",end=\" \")\n",
        "  print()"
      ],
      "metadata": {
        "colab": {
          "base_uri": "https://localhost:8080/"
        },
        "id": "y0AMAiSn7xBb",
        "outputId": "138c3f2b-b086-4f77-bfc3-758de347b9e4"
      },
      "execution_count": 31,
      "outputs": [
        {
          "output_type": "stream",
          "name": "stdout",
          "text": [
            "*           * \n",
            "  *       *   \n",
            "    *   *     \n",
            "      *       \n",
            "    *   *     \n",
            "  *       *   \n",
            "*           * \n"
          ]
        }
      ]
    },
    {
      "cell_type": "code",
      "source": [
        "n = 5\n",
        "for i in range(n):\n",
        "  for j in range(n):\n",
        "    if(i==0 or i==n-1 or j==0 or j==n-1):\n",
        "      print(\"*\",end=\" \")\n",
        "    else:\n",
        "      print(\" \",end=\" \")\n",
        "  print()"
      ],
      "metadata": {
        "colab": {
          "base_uri": "https://localhost:8080/"
        },
        "id": "9MhRAKLu9VsE",
        "outputId": "ecc76a40-3f5c-400f-e014-3ad3ebd7208f"
      },
      "execution_count": 32,
      "outputs": [
        {
          "output_type": "stream",
          "name": "stdout",
          "text": [
            "* * * * * \n",
            "*       * \n",
            "*       * \n",
            "*       * \n",
            "* * * * * \n"
          ]
        }
      ]
    },
    {
      "cell_type": "code",
      "source": [
        "n = 5\n",
        "for i in range(n):\n",
        "  for j in range(n):\n",
        "    if(j==i or j==0 or i==n-1):\n",
        "      print(\"*\",end=\" \")\n",
        "    else:\n",
        "      print(\" \",end=\" \")\n",
        "  print()"
      ],
      "metadata": {
        "colab": {
          "base_uri": "https://localhost:8080/"
        },
        "id": "Va_swqs8-hoq",
        "outputId": "c05a443d-5e54-4956-fd2b-0c3c0774a523"
      },
      "execution_count": 35,
      "outputs": [
        {
          "output_type": "stream",
          "name": "stdout",
          "text": [
            "*         \n",
            "* *       \n",
            "*   *     \n",
            "*     *   \n",
            "* * * * * \n"
          ]
        }
      ]
    }
  ]
}